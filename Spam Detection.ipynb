{
 "cells": [
  {
   "cell_type": "markdown",
   "metadata": {},
   "source": [
    "### Spam detection system"
   ]
  },
  {
   "cell_type": "code",
   "execution_count": 2,
   "metadata": {},
   "outputs": [],
   "source": [
    "from pyspark.sql import SparkSession\n",
    "spark = SparkSession.builder.appName('NLP').getOrCreate()"
   ]
  },
  {
   "cell_type": "code",
   "execution_count": 3,
   "metadata": {},
   "outputs": [],
   "source": [
    "data = spark.read.csv('smsspam.csv',inferSchema=True,header=True,sep='\\t')"
   ]
  },
  {
   "cell_type": "code",
   "execution_count": 4,
   "metadata": {},
   "outputs": [
    {
     "name": "stdout",
     "output_type": "stream",
     "text": [
      "+----+---------------------------------------------------------------------------------------------------------------+\n",
      "| ham|Go until jurong point, crazy.. Available only in bugis n great world la e buffet... Cine there got amore wat...|\n",
      "+----+---------------------------------------------------------------------------------------------------------------+\n",
      "| ham|                                                                                           Ok lar... Joking ...|\n",
      "|spam|                                                                                           Free entry in 2 a...|\n",
      "| ham|                                                                                           U dun say so earl...|\n",
      "| ham|                                                                                           Nah I don't think...|\n",
      "|spam|                                                                                           FreeMsg Hey there...|\n",
      "| ham|                                                                                           Even my brother i...|\n",
      "| ham|                                                                                           As per your reque...|\n",
      "|spam|                                                                                           WINNER!! As a val...|\n",
      "|spam|                                                                                           Had your mobile 1...|\n",
      "| ham|                                                                                           I'm gonna be home...|\n",
      "|spam|                                                                                           SIX chances to wi...|\n",
      "|spam|                                                                                           URGENT! You have ...|\n",
      "| ham|                                                                                           I've been searchi...|\n",
      "| ham|                                                                                           I HAVE A DATE ON ...|\n",
      "|spam|                                                                                           XXXMobileMovieClu...|\n",
      "| ham|                                                                                           Oh k...i'm watchi...|\n",
      "| ham|                                                                                           Eh u remember how...|\n",
      "| ham|                                                                                           Fine if thats th...|\n",
      "|spam|                                                                                           England v Macedon...|\n",
      "| ham|                                                                                           Is that seriously...|\n",
      "+----+---------------------------------------------------------------------------------------------------------------+\n",
      "only showing top 20 rows\n",
      "\n"
     ]
    }
   ],
   "source": [
    "data.show()"
   ]
  },
  {
   "cell_type": "code",
   "execution_count": 5,
   "metadata": {},
   "outputs": [
    {
     "data": {
      "text/plain": [
       "['ham',\n",
       " 'Go until jurong point, crazy.. Available only in bugis n great world la e buffet... Cine there got amore wat...']"
      ]
     },
     "execution_count": 5,
     "metadata": {},
     "output_type": "execute_result"
    }
   ],
   "source": [
    "data.columns"
   ]
  },
  {
   "cell_type": "code",
   "execution_count": 6,
   "metadata": {},
   "outputs": [],
   "source": [
    "data = data.withColumnRenamed('ham', 'class')"
   ]
  },
  {
   "cell_type": "code",
   "execution_count": 7,
   "metadata": {},
   "outputs": [],
   "source": [
    "data = data.withColumnRenamed('Go until jurong point, crazy.. Available only in bugis n great world la e buffet... Cine there got amore wat...','text')"
   ]
  },
  {
   "cell_type": "code",
   "execution_count": 8,
   "metadata": {},
   "outputs": [
    {
     "name": "stdout",
     "output_type": "stream",
     "text": [
      "+-----+--------------------+\n",
      "|class|                text|\n",
      "+-----+--------------------+\n",
      "|  ham|Ok lar... Joking ...|\n",
      "| spam|Free entry in 2 a...|\n",
      "|  ham|U dun say so earl...|\n",
      "|  ham|Nah I don't think...|\n",
      "| spam|FreeMsg Hey there...|\n",
      "|  ham|Even my brother i...|\n",
      "|  ham|As per your reque...|\n",
      "| spam|WINNER!! As a val...|\n",
      "| spam|Had your mobile 1...|\n",
      "|  ham|I'm gonna be home...|\n",
      "| spam|SIX chances to wi...|\n",
      "| spam|URGENT! You have ...|\n",
      "|  ham|I've been searchi...|\n",
      "|  ham|I HAVE A DATE ON ...|\n",
      "| spam|XXXMobileMovieClu...|\n",
      "|  ham|Oh k...i'm watchi...|\n",
      "|  ham|Eh u remember how...|\n",
      "|  ham|Fine if thats th...|\n",
      "| spam|England v Macedon...|\n",
      "|  ham|Is that seriously...|\n",
      "+-----+--------------------+\n",
      "only showing top 20 rows\n",
      "\n"
     ]
    }
   ],
   "source": [
    "data.show()"
   ]
  },
  {
   "cell_type": "code",
   "execution_count": 9,
   "metadata": {},
   "outputs": [
    {
     "name": "stdout",
     "output_type": "stream",
     "text": [
      "DataFrame[summary: string, class: string, text: string]\n"
     ]
    }
   ],
   "source": [
    "print(data.describe())"
   ]
  },
  {
   "cell_type": "code",
   "execution_count": 10,
   "metadata": {},
   "outputs": [],
   "source": [
    "from pyspark.sql.functions import length\n",
    "data = data.withColumn('length',length(data['text']))"
   ]
  },
  {
   "cell_type": "code",
   "execution_count": 11,
   "metadata": {},
   "outputs": [
    {
     "name": "stdout",
     "output_type": "stream",
     "text": [
      "+-----+-----------------+\n",
      "|class|      avg(length)|\n",
      "+-----+-----------------+\n",
      "|  ham|71.44612515540821|\n",
      "| spam|138.6706827309237|\n",
      "+-----+-----------------+\n",
      "\n"
     ]
    }
   ],
   "source": [
    "data.groupBy('class').mean().show()"
   ]
  },
  {
   "cell_type": "code",
   "execution_count": 12,
   "metadata": {},
   "outputs": [],
   "source": [
    "from pyspark.ml.feature import (Tokenizer,StopWordsRemover,CountVectorizer,IDF,StringIndexer)"
   ]
  },
  {
   "cell_type": "code",
   "execution_count": 13,
   "metadata": {},
   "outputs": [],
   "source": [
    "tokenizer = Tokenizer(inputCol='text',outputCol='token_text')\n",
    "stop_remove = StopWordsRemover(inputCol='token_text',outputCol='stop_token')\n",
    "count_vec = CountVectorizer(inputCol='stop_token',outputCol='c_vec')\n",
    "idf = IDF(inputCol='c_vec',outputCol='tf_idf')\n",
    "ham_spam_to_numeric = StringIndexer(inputCol='class',outputCol='label')"
   ]
  },
  {
   "cell_type": "code",
   "execution_count": 14,
   "metadata": {},
   "outputs": [],
   "source": [
    "from pyspark.ml.feature import VectorAssembler"
   ]
  },
  {
   "cell_type": "code",
   "execution_count": 15,
   "metadata": {},
   "outputs": [],
   "source": [
    "clean_up = VectorAssembler(inputCols=['tf_idf','length'],outputCol='features')"
   ]
  },
  {
   "cell_type": "code",
   "execution_count": 16,
   "metadata": {},
   "outputs": [],
   "source": [
    "from pyspark.ml.classification import NaiveBayes"
   ]
  },
  {
   "cell_type": "code",
   "execution_count": 17,
   "metadata": {},
   "outputs": [],
   "source": [
    "nb = NaiveBayes()"
   ]
  },
  {
   "cell_type": "code",
   "execution_count": 18,
   "metadata": {},
   "outputs": [],
   "source": [
    "from pyspark.ml import Pipeline\n",
    "data_prep_pipe = Pipeline(stages=[ham_spam_to_numeric,tokenizer,stop_remove,count_vec,idf,clean_up])"
   ]
  },
  {
   "cell_type": "code",
   "execution_count": 19,
   "metadata": {},
   "outputs": [],
   "source": [
    "cleaner = data_prep_pipe.fit(data)"
   ]
  },
  {
   "cell_type": "code",
   "execution_count": 20,
   "metadata": {},
   "outputs": [],
   "source": [
    "clean_data = cleaner.transform(data)"
   ]
  },
  {
   "cell_type": "code",
   "execution_count": 22,
   "metadata": {},
   "outputs": [],
   "source": [
    "clean_data = clean_data.select('features','label')"
   ]
  },
  {
   "cell_type": "code",
   "execution_count": 24,
   "metadata": {},
   "outputs": [],
   "source": [
    "train,test = clean_data.randomSplit([0.7,0.3])"
   ]
  },
  {
   "cell_type": "code",
   "execution_count": 25,
   "metadata": {},
   "outputs": [],
   "source": [
    "spam_detector = nb.fit(train)"
   ]
  },
  {
   "cell_type": "code",
   "execution_count": 28,
   "metadata": {},
   "outputs": [
    {
     "name": "stdout",
     "output_type": "stream",
     "text": [
      "root\n",
      " |-- class: string (nullable = true)\n",
      " |-- text: string (nullable = true)\n",
      " |-- length: integer (nullable = true)\n",
      "\n"
     ]
    }
   ],
   "source": [
    "data.printSchema()"
   ]
  },
  {
   "cell_type": "code",
   "execution_count": 29,
   "metadata": {},
   "outputs": [],
   "source": [
    "test_results = spam_detector.transform(test)"
   ]
  },
  {
   "cell_type": "code",
   "execution_count": 30,
   "metadata": {},
   "outputs": [
    {
     "name": "stdout",
     "output_type": "stream",
     "text": [
      "+--------------------+-----+--------------------+--------------------+----------+\n",
      "|            features|label|       rawPrediction|         probability|prediction|\n",
      "+--------------------+-----+--------------------+--------------------+----------+\n",
      "|(13419,[0,1,2,4,3...|  1.0|[-1204.7996105808...|[3.68528876146571...|       1.0|\n",
      "|(13419,[0,1,2,5,5...|  1.0|[-933.21999007962...|[0.99999999999979...|       0.0|\n",
      "|(13419,[0,1,2,12,...|  1.0|[-1129.5879507551...|[1.58684546358926...|       1.0|\n",
      "|(13419,[0,1,2,12,...|  1.0|[-1122.2841220531...|[2.38265787795616...|       1.0|\n",
      "|(13419,[0,1,2,13,...|  0.0|[-611.85159827953...|[0.99999999999999...|       0.0|\n",
      "|(13419,[0,1,4,13,...|  1.0|[-1421.9035661521...|[3.61868481283933...|       1.0|\n",
      "|(13419,[0,1,5,15,...|  0.0|[-999.89064446695...|[1.0,9.4657681561...|       0.0|\n",
      "|(13419,[0,1,14,78...|  0.0|[-686.93297490287...|[1.0,4.4058224236...|       0.0|\n",
      "|(13419,[0,1,18,20...|  0.0|[-842.59186068667...|[1.0,1.5940616375...|       0.0|\n",
      "|(13419,[0,1,20,47...|  1.0|[-1188.9304646489...|[2.89377679347490...|       1.0|\n",
      "|(13419,[0,1,21,27...|  0.0|[-758.13165428646...|[1.0,1.6796303264...|       0.0|\n",
      "|(13419,[0,1,27,37...|  1.0|[-1384.1387490765...|[1.52167419443797...|       1.0|\n",
      "|(13419,[0,1,38,98...|  1.0|[-1733.1836933516...|[5.55409465255328...|       1.0|\n",
      "|(13419,[0,1,46,17...|  0.0|[-1139.8659371408...|[9.69395701975291...|       1.0|\n",
      "|(13419,[0,1,47,59...|  1.0|[-1375.3364059984...|[2.22859850219694...|       1.0|\n",
      "|(13419,[0,1,47,91...|  1.0|[-1246.0108749420...|[1.55255252620552...|       1.0|\n",
      "|(13419,[0,1,72,10...|  0.0|[-697.31269995086...|[1.0,4.7132269549...|       0.0|\n",
      "|(13419,[0,1,498,5...|  0.0|[-320.48635437860...|[0.99999999999950...|       0.0|\n",
      "|(13419,[0,1,874,1...|  0.0|[-96.732786558800...|[0.99999999267573...|       0.0|\n",
      "|(13419,[0,2,3,8,2...|  0.0|[-1645.8034241949...|[1.0,4.9978798767...|       0.0|\n",
      "+--------------------+-----+--------------------+--------------------+----------+\n",
      "only showing top 20 rows\n",
      "\n"
     ]
    }
   ],
   "source": [
    "test_results.show()"
   ]
  },
  {
   "cell_type": "code",
   "execution_count": 31,
   "metadata": {},
   "outputs": [],
   "source": [
    "from pyspark.ml.evaluation import MulticlassClassificationEvaluator"
   ]
  },
  {
   "cell_type": "code",
   "execution_count": 32,
   "metadata": {},
   "outputs": [],
   "source": [
    "acc_eval = MulticlassClassificationEvaluator()"
   ]
  },
  {
   "cell_type": "code",
   "execution_count": 33,
   "metadata": {},
   "outputs": [],
   "source": [
    "acc = acc_eval.evaluate(test_results)"
   ]
  },
  {
   "cell_type": "code",
   "execution_count": 35,
   "metadata": {},
   "outputs": [
    {
     "name": "stdout",
     "output_type": "stream",
     "text": [
      "Acc of NB model 0.9265568934408892\n"
     ]
    }
   ],
   "source": [
    "print('Acc of NB model ' +str(acc))"
   ]
  },
  {
   "cell_type": "code",
   "execution_count": null,
   "metadata": {},
   "outputs": [],
   "source": []
  }
 ],
 "metadata": {
  "kernelspec": {
   "display_name": "Python 3",
   "language": "python",
   "name": "python3"
  },
  "language_info": {
   "codemirror_mode": {
    "name": "ipython",
    "version": 3
   },
   "file_extension": ".py",
   "mimetype": "text/x-python",
   "name": "python",
   "nbconvert_exporter": "python",
   "pygments_lexer": "ipython3",
   "version": "3.8.5"
  }
 },
 "nbformat": 4,
 "nbformat_minor": 4
}
